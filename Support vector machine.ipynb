{
 "cells": [
  {
   "cell_type": "code",
   "execution_count": null,
   "id": "8bb5472c",
   "metadata": {},
   "outputs": [],
   "source": [
    "from sklearn.svm import svc\n",
    "from sklearn.model_selection import train_test_split\n",
    "\n",
    "sc = StandardScalar()\n",
    "X_train = sc.fit_transform(X_train)\n",
    "X_test = sc.fit_transform(X_test)\n",
    "\n",
    "model = svc()\n",
    "model.fit(X_train,X_test)\n",
    "\n"
   ]
  }
 ],
 "metadata": {
  "kernelspec": {
   "display_name": "Python 3 (ipykernel)",
   "language": "python",
   "name": "python3"
  },
  "language_info": {
   "codemirror_mode": {
    "name": "ipython",
    "version": 3
   },
   "file_extension": ".py",
   "mimetype": "text/x-python",
   "name": "python",
   "nbconvert_exporter": "python",
   "pygments_lexer": "ipython3",
   "version": "3.9.7"
  }
 },
 "nbformat": 4,
 "nbformat_minor": 5
}
